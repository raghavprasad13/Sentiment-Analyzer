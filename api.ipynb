{
 "cells": [
  {
   "cell_type": "markdown",
   "metadata": {
    "colab_type": "text",
    "id": "36PS0cU190io"
   },
   "source": [
    "# Initialize the data \n",
    "\n",
    "Randomly create a single sample"
   ]
  },
  {
   "cell_type": "code",
   "execution_count": 3,
   "metadata": {
    "colab": {
     "autoexec": {
      "startup": false,
      "wait_interval": 0
     },
     "base_uri": "https://localhost:8080/",
     "height": 36
    },
    "colab_type": "code",
    "executionInfo": {
     "elapsed": 918,
     "status": "ok",
     "timestamp": 1528358673930,
     "user": {
      "displayName": "Wei Wang",
      "photoUrl": "//lh5.googleusercontent.com/-hEmLaHfjNX8/AAAAAAAAAAI/AAAAAAAAAOY/wySY35K_U2Y/s50-c-k-no/photo.jpg",
      "userId": "104771366116008123892"
     },
     "user_tz": -480
    },
    "id": "YUl8bMeg9XjY",
    "outputId": "037dd25f-a665-4928-963b-c8e2e0edafe7"
   },
   "outputs": [
    {
     "name": "stdout",
     "output_type": "stream",
     "text": [
      "(1, 1)\n"
     ]
    }
   ],
   "source": [
    "import numpy as np\n",
    "d = np.random.rand(1, 3072)\n",
    "t = np.array([[1]])\n",
    "print(t.shape)"
   ]
  },
  {
   "cell_type": "code",
   "execution_count": 4,
   "metadata": {
    "colab": {
     "autoexec": {
      "startup": false,
      "wait_interval": 0
     },
     "base_uri": "https://localhost:8080/",
     "height": 36
    },
    "colab_type": "code",
    "executionInfo": {
     "elapsed": 718,
     "status": "ok",
     "timestamp": 1528358691114,
     "user": {
      "displayName": "Wei Wang",
      "photoUrl": "//lh5.googleusercontent.com/-hEmLaHfjNX8/AAAAAAAAAAI/AAAAAAAAAOY/wySY35K_U2Y/s50-c-k-no/photo.jpg",
      "userId": "104771366116008123892"
     },
     "user_tz": -480
    },
    "id": "g3SwWnNrRrYI",
    "outputId": "c8467c70-b3d3-41f6-e587-b4600c80f536"
   },
   "outputs": [
    {
     "name": "stdout",
     "output_type": "stream",
     "text": [
      "(1, 3072)\n"
     ]
    }
   ],
   "source": [
    "print(d.shape)"
   ]
  },
  {
   "cell_type": "markdown",
   "metadata": {
    "colab_type": "text",
    "id": "ZF3eq3Ck9k3K"
   },
   "source": [
    "# Operations\n",
    "Implement different operations with forward and backward functions."
   ]
  },
  {
   "cell_type": "code",
   "execution_count": 5,
   "metadata": {
    "colab": {
     "autoexec": {
      "startup": false,
      "wait_interval": 0
     }
    },
    "colab_type": "code",
    "id": "a418deNG9Jv8"
   },
   "outputs": [],
   "source": [
    "\n",
    "class Operation(object):\n",
    "\n",
    "    def forward(self):\n",
    "        pass\n",
    "\n",
    "    def backward(self):\n",
    "        pass\n",
    "\n",
    "\n",
    "class Add(Operation):\n",
    "\n",
    "    def forward(self, a, b):\n",
    "        # a and b are vectors\n",
    "        return a + b\n",
    "\n",
    "    def backward(self, dy):\n",
    "        # if a is a matrix, b is a vector\n",
    "        # y = a + b\n",
    "        return dy, dy\n",
    "\n",
    "\n",
    "class Mult(Operation):\n",
    "\n",
    "    def forward(self, x, w):\n",
    "        # y = xW\n",
    "        return np.dot(x, w)\n",
    "\n",
    "    def backward(self, dy, x, w):\n",
    "        # check shape\n",
    "        # return dx and dW\n",
    "        return np.dot(dy, w.T), np.dot(x.T, dy)\n",
    "\n",
    "\n",
    "class Sigmoid(Operation):\n",
    "\n",
    "    def forward(self, x):\n",
    "        self.y = 1 / (1 + np.exp(-x))\n",
    "        return self.y\n",
    "\n",
    "    def backward(self, dy):\n",
    "        # dy = del(L)/del(y)\n",
    "        return dy * self.y * (1 - self.y)\n",
    "\n",
    "\n",
    "class ReLU(Operation):\n",
    "\n",
    "    def forward(self, x):\n",
    "        self.mask = x > 0\n",
    "        return self.mask * x\n",
    "\n",
    "    def backward(self, dy):\n",
    "        return self.mask * dy\n",
    "\n",
    "\n",
    "\n",
    "class CrossEntropy(Operation):\n",
    "\n",
    "    def forward(self, y, t):\n",
    "        return -t * np.log(y) - (1 - t) * np.log(1 - y)\n",
    "      \n",
    "    def backward(self, y, t):\n",
    "        return -t/y + (1-t)/(1-y)\n",
    "\n",
    "\n",
    "class TanH(Operation):\n",
    "    \n",
    "    def forward(self, x):\n",
    "        self.y = np.tanh(x)\n",
    "        return self.y\n",
    "    \n",
    "    def backward(self, dy):\n",
    "        return dy * (1 - np.square(self.y))"
   ]
  },
  {
   "cell_type": "code",
   "execution_count": 11,
   "metadata": {},
   "outputs": [],
   "source": [
    "# dy = del(L)/del(y)\n",
    "# therefore, del(L)/del(x) = (del(L)/del(y)) * (del(y)/del(x))"
   ]
  },
  {
   "cell_type": "markdown",
   "metadata": {
    "colab_type": "text",
    "id": "TovJj5o399bk"
   },
   "source": [
    "## Create the network using Operations\n",
    "\n",
    "Randomly initialize the parameters"
   ]
  },
  {
   "cell_type": "code",
   "execution_count": 12,
   "metadata": {
    "colab": {
     "autoexec": {
      "startup": false,
      "wait_interval": 0
     }
    },
    "colab_type": "code",
    "id": "Wni-ebi9981i"
   },
   "outputs": [],
   "source": [
    "np.random.seed(17)\n",
    "w1 = np.random.randn(3072, 8) / 100\n",
    "b1 = np.zeros((8,))\n",
    "\n",
    "w2 = np.random.randn(8, 1) / 100\n",
    "b2 = np.zeros((1,))\n",
    "\n",
    "o1 = Mult()\n",
    "o2 = Add()\n",
    "o3 = ReLU()\n",
    "o4 = Mult()\n",
    "o5 = Add()\n",
    "o6 = Sigmoid()\n",
    "loss = CrossEntropy()\n"
   ]
  },
  {
   "cell_type": "markdown",
   "metadata": {
    "colab_type": "text",
    "id": "Ey83lpUS-Cl8"
   },
   "source": [
    "## Forward"
   ]
  },
  {
   "cell_type": "code",
   "execution_count": 13,
   "metadata": {
    "colab": {
     "autoexec": {
      "startup": false,
      "wait_interval": 0
     },
     "base_uri": "https://localhost:8080/",
     "height": 36
    },
    "colab_type": "code",
    "executionInfo": {
     "elapsed": 632,
     "status": "ok",
     "timestamp": 1528188977696,
     "user": {
      "displayName": "Wei Wang",
      "photoUrl": "//lh5.googleusercontent.com/-hEmLaHfjNX8/AAAAAAAAAAI/AAAAAAAAAOY/wySY35K_U2Y/s50-c-k-no/photo.jpg",
      "userId": "104771366116008123892"
     },
     "user_tz": -480
    },
    "id": "ffbtBzip9jge",
    "outputId": "98ba39c6-d791-4f99-b870-debf3204fb2e"
   },
   "outputs": [
    {
     "name": "stdout",
     "output_type": "stream",
     "text": [
      "loss= [[0.69098579]]\n"
     ]
    }
   ],
   "source": [
    "v1 = o1.forward(d, w1)\n",
    "z1 = o2.forward(v1, b1)\n",
    "h = o3.forward(z1)\n",
    "v2 = o4.forward(h, w2)\n",
    "z2 = o5.forward(v2, b2)\n",
    "y = o6.forward(z2)\n",
    "l=loss.forward(y, t)\n",
    "print('loss=', l)\n",
    "\n"
   ]
  },
  {
   "cell_type": "markdown",
   "metadata": {
    "colab_type": "text",
    "id": "wWaUP-bdJNt2"
   },
   "source": [
    "## Backward"
   ]
  },
  {
   "cell_type": "code",
   "execution_count": 14,
   "metadata": {
    "colab": {
     "autoexec": {
      "startup": false,
      "wait_interval": 0
     },
     "base_uri": "https://localhost:8080/",
     "height": 168
    },
    "colab_type": "code",
    "executionInfo": {
     "elapsed": 636,
     "status": "ok",
     "timestamp": 1528188978646,
     "user": {
      "displayName": "Wei Wang",
      "photoUrl": "//lh5.googleusercontent.com/-hEmLaHfjNX8/AAAAAAAAAAI/AAAAAAAAAOY/wySY35K_U2Y/s50-c-k-no/photo.jpg",
      "userId": "104771366116008123892"
     },
     "user_tz": -480
    },
    "id": "7qlV5Vt3_cb-",
    "outputId": "a5db096a-f9c2-4b52-f844-b3a8d3b6d130"
   },
   "outputs": [
    {
     "name": "stdout",
     "output_type": "stream",
     "text": [
      "[[-0.07897976]\n",
      " [-0.14668946]\n",
      " [ 0.        ]\n",
      " [ 0.        ]\n",
      " [-0.03766654]\n",
      " [ 0.        ]\n",
      " [ 0.        ]\n",
      " [ 0.        ]]\n"
     ]
    }
   ],
   "source": [
    "dy = loss.backward(y, t)\n",
    "dz2 = o6.backward(dy)\n",
    "dv2, db2 = o5.backward(dz2)\n",
    "dh, dw2 = o4.backward(dv2, h, w2)\n",
    "dz1 = o3.backward(dh)\n",
    "dv1, db1 = o2.backward(dz1)\n",
    "dx, dw1 = o1.backward(dv1, d, w1)\n",
    "print(dw2)\n"
   ]
  },
  {
   "cell_type": "code",
   "execution_count": 15,
   "metadata": {},
   "outputs": [],
   "source": [
    "a = 0.01\n",
    "w1 = w1 - a * dw1\n",
    "w2 = w2 - a * dw2\n",
    "b1 = b1 - a * db1\n",
    "b2 = b2 - a * db2"
   ]
  },
  {
   "cell_type": "markdown",
   "metadata": {
    "colab_type": "text",
    "id": "aefNLNZk-E84"
   },
   "source": [
    "# Layer"
   ]
  },
  {
   "cell_type": "code",
   "execution_count": 16,
   "metadata": {
    "colab": {
     "autoexec": {
      "startup": false,
      "wait_interval": 0
     }
    },
    "colab_type": "code",
    "id": "5vLAPG_W9WDC"
   },
   "outputs": [],
   "source": [
    "class Layer(object):\n",
    "\n",
    "    def __init__(self, name):\n",
    "        self.name = name\n",
    "        pass\n",
    "\n",
    "    def forward(self, x):\n",
    "        pass\n",
    "\n",
    "    def backward(self, dy):\n",
    "        pass\n",
    "\n",
    "\n",
    "class Linear(Layer):\n",
    "\n",
    "    def __init__(self, nb_in, nb_out, act):\n",
    "        self.w = np.random.randn(nb_in, nb_out) / 100\n",
    "        self.b = np.zeros((nb_out,))\n",
    "        self.mult = Mult()\n",
    "        self.add = Add()\n",
    "        self.act = act\n",
    "\n",
    "    def forward(self, x):\n",
    "        self.x = x\n",
    "        v = self.mult.forward(x, self.w)\n",
    "        return self.act.forward(self.add.forward(v, self.b))\n",
    "\n",
    "    def backward(self, dy):\n",
    "        dy = self.act.backward(dy)\n",
    "        dv, db = self.add.backward(dy)\n",
    "        dx, dw = self.mult.backward(dv, self.x, self.w)\n",
    "        return dx, dw, db"
   ]
  },
  {
   "cell_type": "markdown",
   "metadata": {
    "colab_type": "text",
    "id": "zk26pKSfJ_Wy"
   },
   "source": [
    "## Create the network using Layers"
   ]
  },
  {
   "cell_type": "code",
   "execution_count": 17,
   "metadata": {
    "colab": {
     "autoexec": {
      "startup": false,
      "wait_interval": 0
     }
    },
    "colab_type": "code",
    "id": "Po5DD3hH-Jmi"
   },
   "outputs": [],
   "source": [
    "np.random.seed(17)\n",
    "layer1 = Linear(3072, 8, act=ReLU())\n",
    "layer2 = Linear(8, 1, act=Sigmoid())\n",
    "loss = CrossEntropy()"
   ]
  },
  {
   "cell_type": "markdown",
   "metadata": {
    "colab_type": "text",
    "id": "b5Xmb9oPKC9u"
   },
   "source": [
    "## Forward"
   ]
  },
  {
   "cell_type": "code",
   "execution_count": 18,
   "metadata": {
    "colab": {
     "autoexec": {
      "startup": false,
      "wait_interval": 0
     },
     "base_uri": "https://localhost:8080/",
     "height": 36
    },
    "colab_type": "code",
    "executionInfo": {
     "elapsed": 604,
     "status": "ok",
     "timestamp": 1528188981258,
     "user": {
      "displayName": "Wei Wang",
      "photoUrl": "//lh5.googleusercontent.com/-hEmLaHfjNX8/AAAAAAAAAAI/AAAAAAAAAOY/wySY35K_U2Y/s50-c-k-no/photo.jpg",
      "userId": "104771366116008123892"
     },
     "user_tz": -480
    },
    "id": "AwokB6xhB0Lk",
    "outputId": "5fa7412b-1df1-4c62-d27b-6a1e7455f4a5"
   },
   "outputs": [
    {
     "name": "stdout",
     "output_type": "stream",
     "text": [
      "loss= [[0.69098579]]\n"
     ]
    }
   ],
   "source": [
    "h=layer1.forward(d)\n",
    "y=layer2.forward(h)\n",
    "l=loss.forward(y, t)\n",
    "print('loss=', l)\n"
   ]
  },
  {
   "cell_type": "markdown",
   "metadata": {
    "colab_type": "text",
    "id": "sCYWf_OEKEje"
   },
   "source": [
    "## Backward"
   ]
  },
  {
   "cell_type": "code",
   "execution_count": 19,
   "metadata": {
    "colab": {
     "autoexec": {
      "startup": false,
      "wait_interval": 0
     },
     "base_uri": "https://localhost:8080/",
     "height": 168
    },
    "colab_type": "code",
    "executionInfo": {
     "elapsed": 806,
     "status": "ok",
     "timestamp": 1528188982214,
     "user": {
      "displayName": "Wei Wang",
      "photoUrl": "//lh5.googleusercontent.com/-hEmLaHfjNX8/AAAAAAAAAAI/AAAAAAAAAOY/wySY35K_U2Y/s50-c-k-no/photo.jpg",
      "userId": "104771366116008123892"
     },
     "user_tz": -480
    },
    "id": "htZJw-CwCHSU",
    "outputId": "2f3359e2-d264-49a5-add0-791cb3917aaf"
   },
   "outputs": [
    {
     "name": "stdout",
     "output_type": "stream",
     "text": [
      "[[-0.07897976]\n",
      " [-0.14668946]\n",
      " [ 0.        ]\n",
      " [ 0.        ]\n",
      " [-0.03766654]\n",
      " [ 0.        ]\n",
      " [ 0.        ]\n",
      " [ 0.        ]]\n"
     ]
    }
   ],
   "source": [
    "dy=loss.backward(y, t)\n",
    "dh, dw2, db2 =layer2.backward(dy)\n",
    "dx, dw1, db1 = layer1.backward(dh)\n",
    "print(dw2)\n"
   ]
  },
  {
   "cell_type": "markdown",
   "metadata": {
    "colab_type": "text",
    "id": "rAIwkdLNJR3u"
   },
   "source": [
    "# TODO\n",
    "\n",
    "Extend the code to process a batch of samples\n",
    "\n",
    "Hint: the `Add()`  operations should be updated."
   ]
  },
  {
   "cell_type": "code",
   "execution_count": 0,
   "metadata": {
    "colab": {
     "autoexec": {
      "startup": false,
      "wait_interval": 0
     }
    },
    "colab_type": "code",
    "id": "I-zw2ZVqJVyk"
   },
   "outputs": [],
   "source": [
    "X=np.random.rand(8, 3072)\n",
    "T=np.random.randint(0, 2, (8, 1))"
   ]
  },
  {
   "cell_type": "code",
   "execution_count": 0,
   "metadata": {
    "colab": {
     "autoexec": {
      "startup": false,
      "wait_interval": 0
     }
    },
    "colab_type": "code",
    "id": "MHavx3pRJfFs"
   },
   "outputs": [],
   "source": []
  }
 ],
 "metadata": {
  "colab": {
   "default_view": {},
   "name": "api.ipynb",
   "provenance": [],
   "version": "0.3.2",
   "views": {}
  },
  "kernelspec": {
   "display_name": "Python 3",
   "language": "python",
   "name": "python3"
  },
  "language_info": {
   "codemirror_mode": {
    "name": "ipython",
    "version": 3
   },
   "file_extension": ".py",
   "mimetype": "text/x-python",
   "name": "python",
   "nbconvert_exporter": "python",
   "pygments_lexer": "ipython3",
   "version": "3.6.4"
  }
 },
 "nbformat": 4,
 "nbformat_minor": 1
}
