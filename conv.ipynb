{
 "cells": [
  {
   "cell_type": "markdown",
   "metadata": {
    "colab_type": "text",
    "id": "Nul7AzU00yWI"
   },
   "source": [
    "# Preparation\n",
    "\n",
    "## Mount Google Drive"
   ]
  },
  {
   "cell_type": "code",
   "execution_count": null,
   "metadata": {},
   "outputs": [],
   "source": [
    "!pip3 install google"
   ]
  },
  {
   "cell_type": "code",
   "execution_count": null,
   "metadata": {
    "colab": {
     "autoexec": {
      "startup": false,
      "wait_interval": 0
     },
     "base_uri": "https://localhost:8080/",
     "height": 113
    },
    "colab_type": "code",
    "executionInfo": {
     "elapsed": 11994,
     "status": "ok",
     "timestamp": 1528432312668,
     "user": {
      "displayName": "Wei Wang",
      "photoUrl": "//lh5.googleusercontent.com/-hEmLaHfjNX8/AAAAAAAAAAI/AAAAAAAAAOY/wySY35K_U2Y/s50-c-k-no/photo.jpg",
      "userId": "104771366116008123892"
     },
     "user_tz": -480
    },
    "id": "g6HK806Lrp0S",
    "outputId": "1c2c6d96-b2e4-4399-9de7-95bd063b093b"
   },
   "outputs": [],
   "source": [
    "!apt-get install -y -qq software-properties-common python-software-properties module-init-tools\n",
    "!add-apt-repository -y ppa:alessandro-strada/ppa 2>&1 > /dev/null\n",
    "!apt-get update -qq 2>&1 > /dev/null\n",
    "!apt-get -y install -qq google-drive-ocamlfuse fuse\n",
    "from google.colab import auth\n",
    "auth.authenticate_user()\n",
    "from oauth2client.client import GoogleCredentials\n",
    "creds = GoogleCredentials.get_application_default()\n",
    "import getpass\n",
    "!google-drive-ocamlfuse -headless -id={creds.client_id} -secret={creds.client_secret} < /dev/null 2>&1 | grep URL\n",
    "vcode = getpass.getpass()\n",
    "!echo {vcode} | google-drive-ocamlfuse -headless -id={creds.client_id} -secret={creds.client_secret}"
   ]
  },
  {
   "cell_type": "code",
   "execution_count": null,
   "metadata": {
    "colab": {
     "autoexec": {
      "startup": false,
      "wait_interval": 0
     }
    },
    "colab_type": "code",
    "id": "k0nrlcOVsKfy"
   },
   "outputs": [],
   "source": [
    "!mkdir -p drive\n",
    "!google-drive-ocamlfuse drive"
   ]
  },
  {
   "cell_type": "markdown",
   "metadata": {
    "colab_type": "text",
    "id": "FDnMTZvW0-xe"
   },
   "source": [
    "## Go to working space"
   ]
  },
  {
   "cell_type": "code",
   "execution_count": null,
   "metadata": {
    "colab": {
     "autoexec": {
      "startup": false,
      "wait_interval": 0
     }
    },
    "colab_type": "code",
    "id": "7cJx5wTnulhi"
   },
   "outputs": [],
   "source": [
    "import os\n",
    "os.chdir('drive/colab/course')"
   ]
  },
  {
   "cell_type": "markdown",
   "metadata": {
    "colab_type": "text",
    "id": "v1vgDHj71B4q"
   },
   "source": [
    "## Download test images"
   ]
  },
  {
   "cell_type": "code",
   "execution_count": null,
   "metadata": {
    "colab": {
     "autoexec": {
      "startup": false,
      "wait_interval": 0
     },
     "base_uri": "https://localhost:8080/",
     "height": 226
    },
    "colab_type": "code",
    "executionInfo": {
     "elapsed": 6017,
     "status": "ok",
     "timestamp": 1528432356495,
     "user": {
      "displayName": "Wei Wang",
      "photoUrl": "//lh5.googleusercontent.com/-hEmLaHfjNX8/AAAAAAAAAAI/AAAAAAAAAOY/wySY35K_U2Y/s50-c-k-no/photo.jpg",
      "userId": "104771366116008123892"
     },
     "user_tz": -480
    },
    "id": "thjnhE6JtwWG",
    "outputId": "2c22f01e-9425-49e6-8736-3841152570f2"
   },
   "outputs": [],
   "source": [
    "!wget https://raw.githubusercontent.com/BVLC/caffe/master/examples/images/cat_gray.jpg "
   ]
  },
  {
   "cell_type": "code",
   "execution_count": null,
   "metadata": {
    "colab": {
     "autoexec": {
      "startup": false,
      "wait_interval": 0
     },
     "base_uri": "https://localhost:8080/",
     "height": 246
    },
    "colab_type": "code",
    "executionInfo": {
     "elapsed": 6970,
     "status": "ok",
     "timestamp": 1528438195880,
     "user": {
      "displayName": "Wei Wang",
      "photoUrl": "//lh5.googleusercontent.com/-hEmLaHfjNX8/AAAAAAAAAAI/AAAAAAAAAOY/wySY35K_U2Y/s50-c-k-no/photo.jpg",
      "userId": "104771366116008123892"
     },
     "user_tz": -480
    },
    "id": "FJD61rNmudlS",
    "outputId": "bd12f913-f364-4aa8-de93-3fb57a5099cc"
   },
   "outputs": [],
   "source": [
    "!wget https://raw.githubusercontent.com/BVLC/caffe/master/examples/images/cat.jpg"
   ]
  },
  {
   "cell_type": "markdown",
   "metadata": {
    "colab_type": "text",
    "id": "HbTGVr_01Fvk"
   },
   "source": [
    "## Install image library"
   ]
  },
  {
   "cell_type": "code",
   "execution_count": null,
   "metadata": {
    "colab": {
     "autoexec": {
      "startup": false,
      "wait_interval": 0
     },
     "base_uri": "https://localhost:8080/",
     "height": 55
    },
    "colab_type": "code",
    "executionInfo": {
     "elapsed": 4170,
     "status": "ok",
     "timestamp": 1528432377361,
     "user": {
      "displayName": "Wei Wang",
      "photoUrl": "//lh5.googleusercontent.com/-hEmLaHfjNX8/AAAAAAAAAAI/AAAAAAAAAOY/wySY35K_U2Y/s50-c-k-no/photo.jpg",
      "userId": "104771366116008123892"
     },
     "user_tz": -480
    },
    "id": "EWGC5s99uT2u",
    "outputId": "ad4737e3-5cb9-4d73-d16d-083e9d42cef5"
   },
   "outputs": [],
   "source": [
    "!pip3 install Pillow"
   ]
  },
  {
   "cell_type": "markdown",
   "metadata": {
    "colab_type": "text",
    "id": "jPHqIwhU1I8A"
   },
   "source": [
    "# Convolution over gray-scale images\n",
    "\n",
    "## Naive implementation"
   ]
  },
  {
   "cell_type": "code",
   "execution_count": null,
   "metadata": {
    "colab": {
     "autoexec": {
      "startup": false,
      "wait_interval": 0
     }
    },
    "colab_type": "code",
    "id": "u2HjjPsdp9LY"
   },
   "outputs": [],
   "source": [
    "import numpy as np"
   ]
  },
  {
   "cell_type": "code",
   "execution_count": null,
   "metadata": {
    "colab": {
     "autoexec": {
      "startup": false,
      "wait_interval": 0
     }
    },
    "colab_type": "code",
    "id": "iV2oV_J8qCRQ"
   },
   "outputs": [],
   "source": [
    "def conv_gray1(x, W, p=0, s=1):\n",
    "  h, w = x.shape\n",
    "  k = W.shape[0]\n",
    "  oh = (h + p -k) // s + 1\n",
    "  ow = (w + p -k) // s + 1\n",
    "  \n",
    "  out = np.zeros((oh, ow))\n",
    "  for i in range(oh):\n",
    "    for j in range(ow):\n",
    "      for a in range(k):\n",
    "        for b in range(k):\n",
    "          out[i, j] += x[i+a, j+b] * W[a, b]\n",
    "  return out  "
   ]
  },
  {
   "cell_type": "code",
   "execution_count": null,
   "metadata": {
    "colab": {
     "autoexec": {
      "startup": false,
      "wait_interval": 0
     },
     "base_uri": "https://localhost:8080/",
     "height": 36
    },
    "colab_type": "code",
    "executionInfo": {
     "elapsed": 3994,
     "status": "ok",
     "timestamp": 1528432487959,
     "user": {
      "displayName": "Wei Wang",
      "photoUrl": "//lh5.googleusercontent.com/-hEmLaHfjNX8/AAAAAAAAAAI/AAAAAAAAAOY/wySY35K_U2Y/s50-c-k-no/photo.jpg",
      "userId": "104771366116008123892"
     },
     "user_tz": -480
    },
    "id": "TMVQnqNnrgw6",
    "outputId": "555be7dc-d2db-43c9-f42b-0bb2681b2613"
   },
   "outputs": [],
   "source": [
    "import PIL\n",
    "img=np.asarray(PIL.Image.open('cat_gray.jpg'))\n",
    "print(img.shape)"
   ]
  },
  {
   "cell_type": "markdown",
   "metadata": {
    "colab_type": "text",
    "id": "jSp0Hy6C1WK-"
   },
   "source": [
    "Test the running time "
   ]
  },
  {
   "cell_type": "code",
   "execution_count": null,
   "metadata": {
    "colab": {
     "autoexec": {
      "startup": false,
      "wait_interval": 0
     },
     "base_uri": "https://localhost:8080/",
     "height": 36
    },
    "colab_type": "code",
    "executionInfo": {
     "elapsed": 2661,
     "status": "ok",
     "timestamp": 1528432624686,
     "user": {
      "displayName": "Wei Wang",
      "photoUrl": "//lh5.googleusercontent.com/-hEmLaHfjNX8/AAAAAAAAAAI/AAAAAAAAAOY/wySY35K_U2Y/s50-c-k-no/photo.jpg",
      "userId": "104771366116008123892"
     },
     "user_tz": -480
    },
    "id": "Po3wCmmfrmEs",
    "outputId": "bc0be604-03b6-4f91-a2b7-1b2a847a03d1"
   },
   "outputs": [],
   "source": [
    "import time\n",
    "W = np.array([[0.5, -1], [1, -1]])\n",
    "tick = time.time()\n",
    "out = conv_gray1(img, W)\n",
    "print('time for conv_gray1: %f' % (time.time() - tick))"
   ]
  },
  {
   "cell_type": "code",
   "execution_count": null,
   "metadata": {
    "colab": {
     "autoexec": {
      "startup": false,
      "wait_interval": 0
     },
     "base_uri": "https://localhost:8080/",
     "height": 36
    },
    "colab_type": "code",
    "executionInfo": {
     "elapsed": 722,
     "status": "ok",
     "timestamp": 1528432530491,
     "user": {
      "displayName": "Wei Wang",
      "photoUrl": "//lh5.googleusercontent.com/-hEmLaHfjNX8/AAAAAAAAAAI/AAAAAAAAAOY/wySY35K_U2Y/s50-c-k-no/photo.jpg",
      "userId": "104771366116008123892"
     },
     "user_tz": -480
    },
    "id": "i8jUkUe2u9wO",
    "outputId": "51f57e0b-bf29-4b8e-8986-da757b3f406f"
   },
   "outputs": [],
   "source": [
    "print(out.max(), out.min())"
   ]
  },
  {
   "cell_type": "markdown",
   "metadata": {
    "colab_type": "text",
    "id": "7DobZS210xaq"
   },
   "source": [
    "Display the output feature map"
   ]
  },
  {
   "cell_type": "code",
   "execution_count": null,
   "metadata": {
    "colab": {
     "autoexec": {
      "startup": false,
      "wait_interval": 0
     },
     "base_uri": "https://localhost:8080/",
     "height": 350
    },
    "colab_type": "code",
    "executionInfo": {
     "elapsed": 1387,
     "status": "ok",
     "timestamp": 1528432629830,
     "user": {
      "displayName": "Wei Wang",
      "photoUrl": "//lh5.googleusercontent.com/-hEmLaHfjNX8/AAAAAAAAAAI/AAAAAAAAAOY/wySY35K_U2Y/s50-c-k-no/photo.jpg",
      "userId": "104771366116008123892"
     },
     "user_tz": -480
    },
    "id": "7k0vMUXrvGs0",
    "outputId": "640a7235-d3a4-47f7-8fb9-42dab31ab9f3"
   },
   "outputs": [],
   "source": [
    "import matplotlib.pyplot as plt\n",
    "plt.imshow(np.uint8(out/out.max()*255), cmap='gray')\n",
    "plt.grid(False)"
   ]
  },
  {
   "cell_type": "markdown",
   "metadata": {
    "colab_type": "text",
    "id": "-x_F9-bJ1g_4"
   },
   "source": [
    "## Advanced implementation"
   ]
  },
  {
   "cell_type": "code",
   "execution_count": null,
   "metadata": {
    "colab": {
     "autoexec": {
      "startup": false,
      "wait_interval": 0
     }
    },
    "colab_type": "code",
    "id": "KMYL2xkFvqvs"
   },
   "outputs": [],
   "source": [
    "def conv_gray2(x, W, p=0, s=1):\n",
    "  h, w = x.shape\n",
    "  k = W.shape[0]\n",
    "  oh = (h + p -k) // s + 1\n",
    "  ow = (w + p -k) // s + 1\n",
    "  \n",
    "  fields = np.zeros((oh, ow, k, k))  \n",
    "  \n",
    "  \n",
    "  for i in range(oh):\n",
    "    for j in range(ow):\n",
    "      fields[i, j]= x[i*s:i*s+k, j*s:j*s+k]\n",
    "  out = np.dot(fields.reshape(oh*ow, -1), W.flatten())\n",
    "  \n",
    "  return out.reshape((oh, ow))"
   ]
  },
  {
   "cell_type": "markdown",
   "metadata": {
    "colab_type": "text",
    "id": "WGgZk-Pl1kp6"
   },
   "source": [
    "Test the convolution time"
   ]
  },
  {
   "cell_type": "code",
   "execution_count": null,
   "metadata": {
    "colab": {
     "autoexec": {
      "startup": false,
      "wait_interval": 0
     },
     "base_uri": "https://localhost:8080/",
     "height": 36
    },
    "colab_type": "code",
    "executionInfo": {
     "elapsed": 705,
     "status": "ok",
     "timestamp": 1528432752974,
     "user": {
      "displayName": "Wei Wang",
      "photoUrl": "//lh5.googleusercontent.com/-hEmLaHfjNX8/AAAAAAAAAAI/AAAAAAAAAOY/wySY35K_U2Y/s50-c-k-no/photo.jpg",
      "userId": "104771366116008123892"
     },
     "user_tz": -480
    },
    "id": "bgi3lf5Zv7ys",
    "outputId": "2e7822ae-d18f-49b8-c95c-6e1aab95b8b4"
   },
   "outputs": [],
   "source": [
    "tick = time.time()\n",
    "out = conv_gray2(img, W)\n",
    "print('time for conv_gray2 %f' % (time.time() - tick))"
   ]
  },
  {
   "cell_type": "markdown",
   "metadata": {
    "colab_type": "text",
    "id": "xm0fKpoT1nQq"
   },
   "source": [
    "Display the output feature maps"
   ]
  },
  {
   "cell_type": "code",
   "execution_count": null,
   "metadata": {
    "colab": {
     "autoexec": {
      "startup": false,
      "wait_interval": 0
     },
     "base_uri": "https://localhost:8080/",
     "height": 350
    },
    "colab_type": "code",
    "executionInfo": {
     "elapsed": 1416,
     "status": "ok",
     "timestamp": 1528432785033,
     "user": {
      "displayName": "Wei Wang",
      "photoUrl": "//lh5.googleusercontent.com/-hEmLaHfjNX8/AAAAAAAAAAI/AAAAAAAAAOY/wySY35K_U2Y/s50-c-k-no/photo.jpg",
      "userId": "104771366116008123892"
     },
     "user_tz": -480
    },
    "id": "LcXM5km3zwNQ",
    "outputId": "23193e27-ae00-40d7-c0fd-12f9a27e6123"
   },
   "outputs": [],
   "source": [
    "plt.imshow(np.uint8(out/out.max()*255), cmap='gray')\n",
    "plt.grid(False)"
   ]
  },
  {
   "cell_type": "markdown",
   "metadata": {
    "colab_type": "text",
    "id": "gi7XFGjs1rEU"
   },
   "source": [
    "# Convolution over RGB images"
   ]
  },
  {
   "cell_type": "markdown",
   "metadata": {
    "colab_type": "text",
    "id": "eLIRpYw71xPY"
   },
   "source": [
    "##  Forward"
   ]
  },
  {
   "cell_type": "code",
   "execution_count": null,
   "metadata": {
    "colab": {
     "autoexec": {
      "startup": false,
      "wait_interval": 0
     }
    },
    "colab_type": "code",
    "id": "0l5Tq9z10TC8"
   },
   "outputs": [],
   "source": [
    " def conv_rgb(x, W, p=0, s=1):\n",
    "    c, h, w = x.shape\n",
    "    n, _, k, _ = W.shape\n",
    "    oh = (h + p -k) // s + 1\n",
    "    ow = (w + p -k) // s + 1\n",
    "  \n",
    "    fields = np.zeros((oh, ow, c*k*k))  \n",
    "  \n",
    "    x_pad = np.zeros((c, h+p, w+p))\n",
    "    x_pad[:, (p//2):h+(p//2), (p//2):w+(p//2)] = x\n",
    "  \n",
    "    for i in range(oh):\n",
    "      for j in range(ow):\n",
    "        fields[i, j]= x_pad[:, i*s:i*s+k, j*s:j*s+k].flatten()\n",
    "    W = W.reshape((n, c*k*k))\n",
    "    fields = fields.reshape(oh*ow, c*k*k).T\n",
    "    out = np.dot(W, fields)\n",
    "  \n",
    "    return out.reshape((n, oh, ow))"
   ]
  },
  {
   "cell_type": "code",
   "execution_count": null,
   "metadata": {
    "colab": {
     "autoexec": {
      "startup": false,
      "wait_interval": 0
     },
     "base_uri": "https://localhost:8080/",
     "height": 36
    },
    "colab_type": "code",
    "executionInfo": {
     "elapsed": 702,
     "status": "ok",
     "timestamp": 1528438219390,
     "user": {
      "displayName": "Wei Wang",
      "photoUrl": "//lh5.googleusercontent.com/-hEmLaHfjNX8/AAAAAAAAAAI/AAAAAAAAAOY/wySY35K_U2Y/s50-c-k-no/photo.jpg",
      "userId": "104771366116008123892"
     },
     "user_tz": -480
    },
    "id": "iqdVyv2pdcCa",
    "outputId": "7d7dfce1-599e-4b50-fd61-02025b344ac6"
   },
   "outputs": [],
   "source": [
    "img=np.asarray(PIL.Image.open('cat.jpg'))\n",
    "print(img.shape)"
   ]
  },
  {
   "cell_type": "code",
   "execution_count": null,
   "metadata": {
    "colab": {
     "autoexec": {
      "startup": false,
      "wait_interval": 0
     },
     "base_uri": "https://localhost:8080/",
     "height": 36
    },
    "colab_type": "code",
    "executionInfo": {
     "elapsed": 671,
     "status": "ok",
     "timestamp": 1528438223399,
     "user": {
      "displayName": "Wei Wang",
      "photoUrl": "//lh5.googleusercontent.com/-hEmLaHfjNX8/AAAAAAAAAAI/AAAAAAAAAOY/wySY35K_U2Y/s50-c-k-no/photo.jpg",
      "userId": "104771366116008123892"
     },
     "user_tz": -480
    },
    "id": "TB4hP7C5dk1S",
    "outputId": "3e2a2cc9-12ef-4758-980d-0f3762292aee"
   },
   "outputs": [],
   "source": [
    "img=img.transpose(2, 0, 1)\n",
    "print(img.shape)"
   ]
  },
  {
   "cell_type": "code",
   "execution_count": null,
   "metadata": {
    "colab": {
     "autoexec": {
      "startup": false,
      "wait_interval": 0
     }
    },
    "colab_type": "code",
    "id": "XALSwl39drUQ"
   },
   "outputs": [],
   "source": [
    "W=np.random.randn(3, 3, 3, 3) / 10\n",
    "out = conv_rgb(img, W)\n"
   ]
  },
  {
   "cell_type": "code",
   "execution_count": null,
   "metadata": {
    "colab": {
     "autoexec": {
      "startup": false,
      "wait_interval": 0
     }
    },
    "colab_type": "code",
    "id": "6m0MSn6seTnk"
   },
   "outputs": [],
   "source": [
    "out_img = out.transpose(1, 2, 0)\n"
   ]
  },
  {
   "cell_type": "code",
   "execution_count": null,
   "metadata": {
    "colab": {
     "autoexec": {
      "startup": false,
      "wait_interval": 0
     },
     "base_uri": "https://localhost:8080/",
     "height": 36
    },
    "colab_type": "code",
    "executionInfo": {
     "elapsed": 727,
     "status": "ok",
     "timestamp": 1528432935006,
     "user": {
      "displayName": "Wei Wang",
      "photoUrl": "//lh5.googleusercontent.com/-hEmLaHfjNX8/AAAAAAAAAAI/AAAAAAAAAOY/wySY35K_U2Y/s50-c-k-no/photo.jpg",
      "userId": "104771366116008123892"
     },
     "user_tz": -480
    },
    "id": "5E0Lf5Q_ehvg",
    "outputId": "8e1abcbf-25d0-495f-9b38-1bb89d776926"
   },
   "outputs": [],
   "source": [
    "print(out_img.shape)"
   ]
  },
  {
   "cell_type": "code",
   "execution_count": null,
   "metadata": {
    "colab": {
     "autoexec": {
      "startup": false,
      "wait_interval": 0
     },
     "base_uri": "https://localhost:8080/",
     "height": 350
    },
    "colab_type": "code",
    "executionInfo": {
     "elapsed": 1909,
     "status": "ok",
     "timestamp": 1528432947156,
     "user": {
      "displayName": "Wei Wang",
      "photoUrl": "//lh5.googleusercontent.com/-hEmLaHfjNX8/AAAAAAAAAAI/AAAAAAAAAOY/wySY35K_U2Y/s50-c-k-no/photo.jpg",
      "userId": "104771366116008123892"
     },
     "user_tz": -480
    },
    "id": "YTAJM2gPd-zg",
    "outputId": "f6f41fca-08ae-44a7-a40c-9e4a24230cc3"
   },
   "outputs": [],
   "source": [
    "plt.imshow(np.uint8(out_img/out_img.max()*255))\n",
    "plt.grid(False)"
   ]
  },
  {
   "cell_type": "markdown",
   "metadata": {
    "colab_type": "text",
    "id": "2ctxQSWvSKFg"
   },
   "source": [
    "## Backward"
   ]
  },
  {
   "cell_type": "code",
   "execution_count": null,
   "metadata": {
    "colab": {
     "autoexec": {
      "startup": false,
      "wait_interval": 0
     }
    },
    "colab_type": "code",
    "id": "-oqOlHTySL7-"
   },
   "outputs": [],
   "source": [
    "def conv_rgb_back(x, W, dy, p=0, s=1):\n",
    "    c, h, w = x.shape    \n",
    "    n, oh, ow = dy.shape\n",
    "    k = W.shape[2]\n",
    "      \n",
    "    fields = np.zeros((oh, ow, c*k*k)) \n",
    "    \n",
    "    x_pad = np.zeros((c, h+p, w+p))\n",
    "    x_pad[:, (p//2):h+(p//2), (p//2):w+(p//2)] = x\n",
    "  \n",
    "  \n",
    "    for i in range(oh):\n",
    "      for j in range(ow):\n",
    "        fields[i, j, :]= x_pad[:, i*s:i*s+k, j*s:j*s+k].flatten()\n",
    "    fields = fields.reshape(oh*ow, -1).T\n",
    "    W = W.reshape((n, c*k*k))\n",
    "    dy = dy.reshape((n, oh*ow))\n",
    "    dx_ = np.dot(W.T, dy).reshape((c*k*k, oh, ow))\n",
    "    dW = np.dot(dy, fields.T)\n",
    "    \n",
    "    dx = np.zeros(x_pad.shape)\n",
    "    for i in range(oh):\n",
    "      for j in range(ow):\n",
    "        dx[:, i*s:i*s+k, j*s:j*s+k] += dx_[:, i, j].reshape(c, k, k)\n",
    "  \n",
    "    return dx[:, (p//2):h+(p//2), (p//2):w+(p//2), dW.reshape((n, c, k, k))"
   ]
  },
  {
   "cell_type": "code",
   "execution_count": null,
   "metadata": {
    "colab": {
     "autoexec": {
      "startup": false,
      "wait_interval": 0
     }
    },
    "colab_type": "code",
    "id": "rLQAsv_keb2k"
   },
   "outputs": [],
   "source": [
    "dy = np.random.rand(out.shape[0], out.shape[1], out.shape[2])\n",
    "dx, dW = conv_rgb_back(img, W, dy)"
   ]
  },
  {
   "cell_type": "code",
   "execution_count": null,
   "metadata": {
    "colab": {
     "autoexec": {
      "startup": false,
      "wait_interval": 0
     }
    },
    "colab_type": "code",
    "id": "ylMuFk_2exFK"
   },
   "outputs": [],
   "source": []
  },
  {
   "cell_type": "markdown",
   "metadata": {
    "colab_type": "text",
    "id": "VOY_bhiQBJqJ"
   },
   "source": [
    "# MaxPooling"
   ]
  },
  {
   "cell_type": "code",
   "execution_count": null,
   "metadata": {
    "colab": {
     "autoexec": {
      "startup": false,
      "wait_interval": 0
     }
    },
    "colab_type": "code",
    "id": "ZZoxYrWGBQ6d"
   },
   "outputs": [],
   "source": [
    "class MaxPooling(object):\n",
    "  \n",
    "  def forward(self, x, k, p, s):\n",
    "    c, h, w = x.shape    \n",
    "    oh = (h + p -k) // s + 1\n",
    "    ow = (w + p -k) // s + 1\n",
    "  \n",
    "    fields = np.zeros((oh, ow, c, k * k))  \n",
    "    x_pad = np.zeros((c, h+p, w+p))\n",
    "    x_pad[:, (p//2):h+(p//2), (p//2):w+(p//2)] = x\n",
    "  \n",
    "    for i in range(oh):\n",
    "      for j in range(ow):\n",
    "        fields[i, j]= x[:, i*s:i*s+k, j*s:j*s+k].reshape((c, -1))\n",
    "    \n",
    "    out = np.max(fields, axis=3)\n",
    "    \n",
    "    return out.transpose(2, 0, 1)\n",
    "    \n",
    "    \n",
    "  def backward(self, dy):"
   ]
  }
 ],
 "metadata": {
  "colab": {
   "collapsed_sections": [],
   "default_view": {},
   "name": "conv.ipynb",
   "provenance": [],
   "toc_visible": true,
   "version": "0.3.2",
   "views": {}
  },
  "kernelspec": {
   "display_name": "Python 3",
   "language": "python",
   "name": "python3"
  },
  "language_info": {
   "codemirror_mode": {
    "name": "ipython",
    "version": 3
   },
   "file_extension": ".py",
   "mimetype": "text/x-python",
   "name": "python",
   "nbconvert_exporter": "python",
   "pygments_lexer": "ipython3",
   "version": "3.6.4"
  }
 },
 "nbformat": 4,
 "nbformat_minor": 1
}
